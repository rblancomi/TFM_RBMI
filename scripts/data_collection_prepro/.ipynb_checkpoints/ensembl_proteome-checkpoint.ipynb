{
 "cells": [
  {
   "cell_type": "markdown",
   "id": "4220ed05",
   "metadata": {},
   "source": [
    "# 19302 human sequences proteome of Ensembl 92 canonical transcripts "
   ]
  },
  {
   "cell_type": "markdown",
   "id": "f6a115dc",
   "metadata": {},
   "source": [
    "This notebook contains the code to generate the 19302 human sequences proteome of Ensembl 92 canonical transcripts (downloaded using Biomart). The canonical transcripts have been further filtered to be unique, meaning not including those belonging to scaffolds (only standard chromosomes).\n",
    "\n",
    "With this approach, we aim to reduce to the maximum the presence of replicated IDs, specifically of symbols mapped to more than one ENSG-ENST-ENSP trio. In case any replicate remains, that protein will be not analyzed in the functional validation. \n",
    "\n",
    "This is the proteome used for degrons functional analysis."
   ]
  },
  {
   "cell_type": "markdown",
   "id": "ac5b0071",
   "metadata": {},
   "source": [
    "## Import libraries"
   ]
  },
  {
   "cell_type": "code",
   "execution_count": 1,
   "id": "d18993ba",
   "metadata": {},
   "outputs": [],
   "source": [
    "# to reload automatically the changes in the scripts.\n",
    "%load_ext autoreload\n",
    "%autoreload 2"
   ]
  },
  {
   "cell_type": "code",
   "execution_count": 2,
   "id": "c399fd07",
   "metadata": {},
   "outputs": [],
   "source": [
    "import sys\n",
    "import pandas as pd\n",
    "import gzip\n",
    "\n",
    "## my modules ##\n",
    "sys.path.append(\"../scripts/Utils/\")    # modules folder\n",
    "from fasta_utils import readFasta_header_gzip"
   ]
  },
  {
   "cell_type": "markdown",
   "id": "215f3157",
   "metadata": {},
   "source": [
    "## Define variables and paths"
   ]
  },
  {
   "cell_type": "code",
   "execution_count": 1,
   "id": "2a3918d0",
   "metadata": {},
   "outputs": [],
   "source": [
    "base = \"../../\"\n",
    "\n",
    "data = \"data/\"\n",
    "\n",
    "uniq_can_transcripts_path = os.path.join(base, data, \"external/biomart/ensembl_canonical_transcripts_uniq.tsv\")\n",
    "uniq_can_transcripts_enst_path = os.path.join(base, data, \n",
    "                                              \"external/biomart/ensembl_canonical_transcripts_uniq_ENSTs.txt\")\n",
    "protein_seqs_path = os.path.join(base, data, \"external/biomart/biomart92_proteome_cantranscripts_uniq.txt.gz\")"
   ]
  },
  {
   "cell_type": "markdown",
   "id": "345110b0",
   "metadata": {},
   "source": [
    "## 1. List of ENSTs from canonical transcripts belonging to standard chromosomes"
   ]
  },
  {
   "cell_type": "markdown",
   "id": "d13b8ab0",
   "metadata": {},
   "source": [
    "Used in Biomart as filter to download the protein sequences."
   ]
  },
  {
   "cell_type": "markdown",
   "id": "b57039d3",
   "metadata": {},
   "source": [
    "*ENST = Ensembl Transcript ID"
   ]
  },
  {
   "cell_type": "code",
   "execution_count": 4,
   "id": "cd6bbe80",
   "metadata": {},
   "outputs": [],
   "source": [
    "canonical_transcripts_uniq = pd.read_csv(uniq_can_transcripts_path, sep = \"\\t\")"
   ]
  },
  {
   "cell_type": "code",
   "execution_count": 5,
   "id": "8c696063",
   "metadata": {},
   "outputs": [
    {
     "data": {
      "text/html": [
       "<div>\n",
       "<style scoped>\n",
       "    .dataframe tbody tr th:only-of-type {\n",
       "        vertical-align: middle;\n",
       "    }\n",
       "\n",
       "    .dataframe tbody tr th {\n",
       "        vertical-align: top;\n",
       "    }\n",
       "\n",
       "    .dataframe thead th {\n",
       "        text-align: right;\n",
       "    }\n",
       "</style>\n",
       "<table border=\"1\" class=\"dataframe\">\n",
       "  <thead>\n",
       "    <tr style=\"text-align: right;\">\n",
       "      <th></th>\n",
       "      <th>ensg</th>\n",
       "      <th>enst</th>\n",
       "      <th>symbol</th>\n",
       "      <th>chr</th>\n",
       "    </tr>\n",
       "  </thead>\n",
       "  <tbody>\n",
       "    <tr>\n",
       "      <th>0</th>\n",
       "      <td>ENSG00000013503</td>\n",
       "      <td>ENST00000228347</td>\n",
       "      <td>POLR3B</td>\n",
       "      <td>12</td>\n",
       "    </tr>\n",
       "    <tr>\n",
       "      <th>1</th>\n",
       "      <td>ENSG00000136044</td>\n",
       "      <td>ENST00000551662</td>\n",
       "      <td>APPL2</td>\n",
       "      <td>12</td>\n",
       "    </tr>\n",
       "    <tr>\n",
       "      <th>2</th>\n",
       "      <td>ENSG00000136051</td>\n",
       "      <td>ENST00000620430</td>\n",
       "      <td>WASHC4</td>\n",
       "      <td>12</td>\n",
       "    </tr>\n",
       "    <tr>\n",
       "      <th>3</th>\n",
       "      <td>ENSG00000151967</td>\n",
       "      <td>ENST00000445224</td>\n",
       "      <td>SCHIP1</td>\n",
       "      <td>3</td>\n",
       "    </tr>\n",
       "    <tr>\n",
       "      <th>4</th>\n",
       "      <td>ENSG00000166535</td>\n",
       "      <td>ENST00000299698</td>\n",
       "      <td>A2ML1</td>\n",
       "      <td>12</td>\n",
       "    </tr>\n",
       "    <tr>\n",
       "      <th>...</th>\n",
       "      <td>...</td>\n",
       "      <td>...</td>\n",
       "      <td>...</td>\n",
       "      <td>...</td>\n",
       "    </tr>\n",
       "    <tr>\n",
       "      <th>19297</th>\n",
       "      <td>ENSG00000125780</td>\n",
       "      <td>ENST00000381458</td>\n",
       "      <td>TGM3</td>\n",
       "      <td>20</td>\n",
       "    </tr>\n",
       "    <tr>\n",
       "      <th>19298</th>\n",
       "      <td>ENSG00000268104</td>\n",
       "      <td>ENST00000598581</td>\n",
       "      <td>SLC6A14</td>\n",
       "      <td>X</td>\n",
       "    </tr>\n",
       "    <tr>\n",
       "      <th>19299</th>\n",
       "      <td>ENSG00000204227</td>\n",
       "      <td>ENST00000374656</td>\n",
       "      <td>RING1</td>\n",
       "      <td>6</td>\n",
       "    </tr>\n",
       "    <tr>\n",
       "      <th>19300</th>\n",
       "      <td>ENSG00000040275</td>\n",
       "      <td>ENST00000265295</td>\n",
       "      <td>SPDL1</td>\n",
       "      <td>5</td>\n",
       "    </tr>\n",
       "    <tr>\n",
       "      <th>19301</th>\n",
       "      <td>ENSG00000177853</td>\n",
       "      <td>ENST00000624776</td>\n",
       "      <td>ZNF518A</td>\n",
       "      <td>10</td>\n",
       "    </tr>\n",
       "  </tbody>\n",
       "</table>\n",
       "<p>19302 rows × 4 columns</p>\n",
       "</div>"
      ],
      "text/plain": [
       "                  ensg             enst   symbol chr\n",
       "0      ENSG00000013503  ENST00000228347   POLR3B  12\n",
       "1      ENSG00000136044  ENST00000551662    APPL2  12\n",
       "2      ENSG00000136051  ENST00000620430   WASHC4  12\n",
       "3      ENSG00000151967  ENST00000445224   SCHIP1   3\n",
       "4      ENSG00000166535  ENST00000299698    A2ML1  12\n",
       "...                ...              ...      ...  ..\n",
       "19297  ENSG00000125780  ENST00000381458     TGM3  20\n",
       "19298  ENSG00000268104  ENST00000598581  SLC6A14   X\n",
       "19299  ENSG00000204227  ENST00000374656    RING1   6\n",
       "19300  ENSG00000040275  ENST00000265295    SPDL1   5\n",
       "19301  ENSG00000177853  ENST00000624776  ZNF518A  10\n",
       "\n",
       "[19302 rows x 4 columns]"
      ]
     },
     "execution_count": 5,
     "metadata": {},
     "output_type": "execute_result"
    }
   ],
   "source": [
    "canonical_transcripts_uniq"
   ]
  },
  {
   "cell_type": "code",
   "execution_count": 8,
   "id": "2dd6264e",
   "metadata": {},
   "outputs": [
    {
     "data": {
      "text/plain": [
       "array(['12', '3', '1', '4', '5', '8', '15', '14', '22', '17', '21', '6',\n",
       "       '13', '2', '11', '7', '18', '19', '20', '16', '9', '10', 'X', 'Y'],\n",
       "      dtype=object)"
      ]
     },
     "execution_count": 8,
     "metadata": {},
     "output_type": "execute_result"
    }
   ],
   "source": [
    "canonical_transcripts_uniq.chr.unique()"
   ]
  },
  {
   "cell_type": "code",
   "execution_count": 11,
   "id": "b5523bd9",
   "metadata": {},
   "outputs": [],
   "source": [
    "canonical_transcripts_uniq[\"enst\"].to_csv(uniq_can_transcripts_enst_path, index = False, header = False)"
   ]
  },
  {
   "cell_type": "markdown",
   "id": "2e4ad687",
   "metadata": {},
   "source": [
    "## 2. Process Biomart 92 proteome containing standard canonical transcripts only"
   ]
  },
  {
   "cell_type": "markdown",
   "id": "400f6e4c",
   "metadata": {},
   "source": [
    "Fetch protein sequences from Biomart.\n",
    "- Biomart specifications:\n",
    "    - Database: Ensembl Genes 92\n",
    "    - Dataset: Human genes (GRCh38.p12)\n",
    "    - Filters: GENE -> Input external references ID list -> Transcript stable ID -> upload list of canonical transcripts belonging to standard chroms (`../data/external/biomart/ensembl_canonical_transcripts_uniq_ENSTs.txt`)\n",
    "    - Attributes (in Sequences): Gene stable ID, Transcript stable ID, Protein stable ID, Gene name, Peptide. \n",
    "- Resulting file: `../data/external/biomart/biomart92_proteome_cantranscripts.txt.gz`."
   ]
  },
  {
   "cell_type": "code",
   "execution_count": 4,
   "id": "2e602bfb",
   "metadata": {},
   "outputs": [
    {
     "name": "stdout",
     "output_type": "stream",
     "text": [
      "Number of retrieved sequences: 19302\n",
      "\n"
     ]
    }
   ],
   "source": [
    "proteome = readFasta_header_gzip(protein_seqs_path)\n",
    "\n",
    "# Expected number of read sequences: 19302 (Count functionality in Biomart)"
   ]
  },
  {
   "cell_type": "markdown",
   "id": "0e75f049",
   "metadata": {},
   "source": [
    "Note that the peptides downloaded from Biomart contain an asterisk at the end of the sequence to indicate when an aminoacid was translated from a STOP codon. This asterisks have no interest for downstream analysis, removed them when loading with `readFasta_header_gzip` above."
   ]
  },
  {
   "cell_type": "code",
   "execution_count": 5,
   "id": "b77aa0a9",
   "metadata": {
    "scrolled": true
   },
   "outputs": [
    {
     "data": {
      "text/plain": [
       "'MDRKVAREFRHKVDFLIENDAEKDYLYDVLRMYHQTMDVAVLVGDLKLVINEPSRLPLFDAIRPLIPLKHQVEYDQLTPRRSRKLKEVRLDRLHPEGLGLSVRGGLEFGCGLFISHLIKGGQADSVGLQVGDEIVRINGYSISSCTHEEVINLIRTKKTVSIKVRHIGLIPVKSSPDEPLTWQYVDQFVSESGGVRGSLGSPGNRENKEKKVFISLVGSRGLGCSISSGPIQKPGIFISHVKPGSLSAEVGLEIGDQIVEVNGVDFSNLDHKEAVNVLKSSRSLTISIVAAAGRELFMTDRERLAEARQRELQRQELLMQKRLAMESNKILQEQQEMERQRRKEIAQKAAEENERYRKEMEQIVEEEEKFKKQWEEDWGSKEQLLLPKTITAEVHPVPLRKPKSFGWFYRYDGKFPTIRKKGKDKKKAKYGSLQDLRKNKKELEFEQKLYKEKEEMLEKEKQLKINRLAQEVSETEREDLEESEKIQYWVERLCQTRLEQISSADNEISEMTTGPPPPPPSVSPLAPPLRRFAGGLHLHTTDLDDIPLDMFYYPPKTPSALPVMPHPPPSNPPHKVPAPPVLPLSGHVSASSSPWVQRTPPPIPIPPPPSVPTQDLTPTRPLPSALEEALSNHPFRTGDTGNPVEDWEAKNHSGKPTNSPVPEQSFPPTPKTFCPSPQPPRGPGVSTISKPVMVHQEPNFIYRPAVKSEVLPQEMLKRMVVYQTAFRQDFRKYEEGFDPYSMFTPEQIMGKDVRLLRIKKEGSLDLALEGGVDSPIGKVVVSAVYERGAAERHGGIVKGDEIMAINGKIVTDYTLAEAEAALQKAWNQGGDWIDLVVAVCPPKEYDDELASLPSSVAESPQPVRKLLEDRAAVHRHGFLLQLEPTDLLLKSKRGNQIHR'"
      ]
     },
     "execution_count": 5,
     "metadata": {},
     "output_type": "execute_result"
    }
   ],
   "source": [
    "# check * have been removed\n",
    "\n",
    "proteome[\"ENSG00000006611|ENST00000005226|ENSP00000005226|USH1C|Q9Y6N9\"]"
   ]
  },
  {
   "cell_type": "code",
   "execution_count": 9,
   "id": "844f6b39",
   "metadata": {},
   "outputs": [],
   "source": [
    "# Save with asterisks removed\n",
    "\n",
    "with open(data_path+others_data_path+proteome_file, \"w\") as f:\n",
    "    \n",
    "    for header in proteome.keys():\n",
    "        \n",
    "        f.write(\">\"+header+\"\\n\")\n",
    "        f.write(proteome[header]+\"\\n\")\n",
    "        \n",
    "        "
   ]
  },
  {
   "cell_type": "code",
   "execution_count": 12,
   "id": "0ac98c43",
   "metadata": {},
   "outputs": [
    {
     "name": "stdout",
     "output_type": "stream",
     "text": [
      "Number of retrieved sequences: 19302\n",
      "\n"
     ]
    }
   ],
   "source": [
    "# check if the proteome has been saved properly\n",
    "\n",
    "proteome = readFasta_header_gzip(data_path+others_data_path+proteome_file_gz)"
   ]
  },
  {
   "cell_type": "code",
   "execution_count": 13,
   "id": "567d8a29",
   "metadata": {},
   "outputs": [
    {
     "data": {
      "text/plain": [
       "'MDRKVAREFRHKVDFLIENDAEKDYLYDVLRMYHQTMDVAVLVGDLKLVINEPSRLPLFDAIRPLIPLKHQVEYDQLTPRRSRKLKEVRLDRLHPEGLGLSVRGGLEFGCGLFISHLIKGGQADSVGLQVGDEIVRINGYSISSCTHEEVINLIRTKKTVSIKVRHIGLIPVKSSPDEPLTWQYVDQFVSESGGVRGSLGSPGNRENKEKKVFISLVGSRGLGCSISSGPIQKPGIFISHVKPGSLSAEVGLEIGDQIVEVNGVDFSNLDHKEAVNVLKSSRSLTISIVAAAGRELFMTDRERLAEARQRELQRQELLMQKRLAMESNKILQEQQEMERQRRKEIAQKAAEENERYRKEMEQIVEEEEKFKKQWEEDWGSKEQLLLPKTITAEVHPVPLRKPKSFGWFYRYDGKFPTIRKKGKDKKKAKYGSLQDLRKNKKELEFEQKLYKEKEEMLEKEKQLKINRLAQEVSETEREDLEESEKIQYWVERLCQTRLEQISSADNEISEMTTGPPPPPPSVSPLAPPLRRFAGGLHLHTTDLDDIPLDMFYYPPKTPSALPVMPHPPPSNPPHKVPAPPVLPLSGHVSASSSPWVQRTPPPIPIPPPPSVPTQDLTPTRPLPSALEEALSNHPFRTGDTGNPVEDWEAKNHSGKPTNSPVPEQSFPPTPKTFCPSPQPPRGPGVSTISKPVMVHQEPNFIYRPAVKSEVLPQEMLKRMVVYQTAFRQDFRKYEEGFDPYSMFTPEQIMGKDVRLLRIKKEGSLDLALEGGVDSPIGKVVVSAVYERGAAERHGGIVKGDEIMAINGKIVTDYTLAEAEAALQKAWNQGGDWIDLVVAVCPPKEYDDELASLPSSVAESPQPVRKLLEDRAAVHRHGFLLQLEPTDLLLKSKRGNQIHR'"
      ]
     },
     "execution_count": 13,
     "metadata": {},
     "output_type": "execute_result"
    }
   ],
   "source": [
    "proteome[\"ENSG00000006611|ENST00000005226|ENSP00000005226|USH1C|Q9Y6N9\"] # correct"
   ]
  }
 ],
 "metadata": {
  "kernelspec": {
   "display_name": "Python 3 (ipykernel)",
   "language": "python",
   "name": "python3"
  },
  "language_info": {
   "codemirror_mode": {
    "name": "ipython",
    "version": 3
   },
   "file_extension": ".py",
   "mimetype": "text/x-python",
   "name": "python",
   "nbconvert_exporter": "python",
   "pygments_lexer": "ipython3",
   "version": "3.9.7"
  }
 },
 "nbformat": 4,
 "nbformat_minor": 5
}
