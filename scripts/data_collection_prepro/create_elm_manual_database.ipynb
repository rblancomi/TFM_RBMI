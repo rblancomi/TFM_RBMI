{
 "cells": [
  {
   "cell_type": "markdown",
   "id": "57916e2d",
   "metadata": {},
   "source": [
    "# Generate ELM-Manual database"
   ]
  },
  {
   "cell_type": "markdown",
   "id": "bdbfc5ce",
   "metadata": {},
   "source": [
    "This notebook contains the code to generate the ELM-Manual database from ELM (The Eukaryotic Linear Motif resource for Functional Sites in Proteins), Mészarós et al. (2017) and Martínez-Jiménez et al. (2019)."
   ]
  },
  {
   "cell_type": "markdown",
   "id": "4631eabe",
   "metadata": {},
   "source": [
    "## Import libraries"
   ]
  },
  {
   "cell_type": "code",
   "execution_count": 2,
   "id": "c65c4393",
   "metadata": {},
   "outputs": [],
   "source": [
    "# to reload automatically the changes in the scripts.\n",
    "%load_ext autoreload\n",
    "%autoreload 2"
   ]
  },
  {
   "cell_type": "code",
   "execution_count": 3,
   "id": "29ba77a1",
   "metadata": {},
   "outputs": [],
   "source": [
    "import pandas as pd\n",
    "import os\n",
    "import sys\n",
    "from Bio import SeqIO\n",
    "import functools\n",
    "import operator\n",
    "\n",
    "## my modules ##\n",
    "sys.path.append(\"../scripts/Utils/\")    # modules folder\n",
    "from fasta_utils import readFasta_gzip\n",
    "from sequence_utils import *"
   ]
  },
  {
   "cell_type": "markdown",
   "id": "15a8a197",
   "metadata": {},
   "source": [
    "## Define paths"
   ]
  },
  {
   "cell_type": "code",
   "execution_count": 4,
   "id": "8db3fab2",
   "metadata": {},
   "outputs": [],
   "source": [
    "base = \"../\"\n",
    "\n",
    "data = \"data/\"\n",
    "\n",
    "elm_path = os.path.join(base, data, \"external/elm_instances.tsv\")\n",
    "meszaros_path = os.path.join(base, data, \"external/degrons_in_cancer.tsv\")\n",
    "mjimenez_path = os.path.join(base, data, \"external/Martinez_degron_instances.tsv\")\n",
    "\n",
    "proteome_path = os.path.join(base, data, \"external/uniprot/uniprot_proteome_UP000005640.fasta.gz\")\n",
    "\n",
    "elm_manual_path = os.path.join(base, data, \"elm_manual/elm_manual_instances.tsv\")"
   ]
  },
  {
   "cell_type": "markdown",
   "id": "c476d1ee",
   "metadata": {},
   "source": [
    "## Load data"
   ]
  },
  {
   "cell_type": "markdown",
   "id": "cbe4a70f",
   "metadata": {},
   "source": [
    "Load each dataset and keep columns: substrate, DEG_ligase_motif and start-end positions.\n"
   ]
  },
  {
   "cell_type": "markdown",
   "id": "d8cb31e2",
   "metadata": {},
   "source": [
    "### ELM"
   ]
  },
  {
   "cell_type": "markdown",
   "id": "e687dc04",
   "metadata": {},
   "source": [
    "- Download from http://elm.eu.org/downloads.html -> tsv table of instances selecting Homo Sapiens.\n",
    "    - The column ELMIdentifier contains the identifier of the E3ligase and motif of the ligase (E3ligase is the second word after the first \"_\")\n",
    "    - The column Primary_Acc contains the ID of the substrate\n",
    "- Select from that table the entries with DEG that correspond to degrons\n",
    "\n"
   ]
  },
  {
   "cell_type": "code",
   "execution_count": 12,
   "id": "9ba5f626",
   "metadata": {},
   "outputs": [],
   "source": [
    "# Load df\n",
    "elm_complete = pd.read_csv(elm_path, sep = '\\t', skiprows = [0, 1, 2, 3, 4], \n",
    "                           usecols = ['ELMIdentifier','Primary_Acc','Start','End'])\n",
    "\n",
    "# Filter degrons\n",
    "df_elm = elm_complete[elm_complete['ELMIdentifier'].apply(lambda x: x[0:3] == 'DEG')].copy()\n",
    "\n",
    "# Generalize column names\n",
    "df_elm = df_elm[['ELMIdentifier','Primary_Acc','Start','End']]\n",
    "df_elm.columns = ['Degron','Substrate','Start','End']\n",
    "\n",
    "# Annotate source\n",
    "df_elm['Database'] = 'ELM'\n",
    "\n",
    "df_elm.drop_duplicates(inplace = True, ignore_index = True)\n",
    "\n",
    "# Handle isoforms\n",
    "##to eliminate the '-' in some of the substrates (those that are from different isoforms)\n",
    "##we will keep only the canonical isoform since the others may have a different position (indicated with \"_1\")\n",
    "index_to_drop = []\n",
    "\n",
    "for i, row in df_elm.iterrows():\n",
    "    \n",
    "    if '-' in row['Substrate'] and row['Substrate'].split('-')[1] != 1:\n",
    "        index_to_drop.append(i)\n",
    "        \n",
    "    elif '-' in row['Substrate'] and row['Substrate'].split('-')[1] == 1:\n",
    "        df_elm.loc[i,'Substrate']=row['Substrate'].split('-')[0]\n",
    "        \n",
    "    if row['Substrate'] == 'A0A0B4J1T2': # manually correct as the ID is different\n",
    "        df_elm.loc[i, 'Substrate'] = 'P10275'\n",
    "\n",
    "df_elm.drop(index_to_drop, axis = 0, inplace = True)\n",
    "df_elm.reset_index(inplace = True,drop = True)"
   ]
  },
  {
   "cell_type": "markdown",
   "id": "b0000659",
   "metadata": {},
   "source": [
    "### \"Degron in cancer\" review - Mészaros et al. (2017)"
   ]
  },
  {
   "cell_type": "markdown",
   "id": "de383ac1",
   "metadata": {},
   "source": [
    "- Download from http://dosztanyi.web.elte.hu/CANCER/DEGRON/TP.html \n",
    "    - The column Degron contains the identifier of the E3ligase and motif of the ligase (E3ligase is the second word after the first \"_\")\n",
    "    - The column Acc contains the ID of the substrate\n",
    "\n"
   ]
  },
  {
   "cell_type": "code",
   "execution_count": 13,
   "id": "b28d51d8",
   "metadata": {},
   "outputs": [],
   "source": [
    "# Load df\n",
    "df_degrons_cancer = pd.read_csv(meszaros_path, sep = '\\t', usecols = ['Degron','Acc','Start','End'])\n",
    "\n",
    "# Generalize column names\n",
    "df_degrons_cancer = df_degrons_cancer[['Degron','Acc','Start','End']]\n",
    "df_degrons_cancer.columns = ['Degron','Substrate','Start','End']\n",
    "\n",
    "# Annotate source\n",
    "df_degrons_cancer['Database'] = 'Degrons_cancer'\n",
    "\n",
    "df_degrons_cancer.drop_duplicates(inplace = True, ignore_index = True)\n",
    "\n",
    "# Formatting: eliminate a space at the end of both degrons and substrates\n",
    "for i, row in df_degrons_cancer.iterrows():\n",
    "    \n",
    "    if row['Substrate'][-1] == ' ':\n",
    "        df_degrons_cancer.loc[i,'Substrate'] = row['Substrate'].split(' ')[0]\n",
    "        \n",
    "    if row['Degron'][-1] == ' ':\n",
    "        df_degrons_cancer.loc[i,'Degron'] = row['Degron'].split(' ')[0]\n",
    "        \n",
    "        \n",
    "# Handle isoforms\n",
    "##to eliminate the '-' in some of the substrates (those that are from different isoforms)\n",
    "##we will keep only the canonical isoform since the others may have a different position (indicated with \"_1\") \n",
    "index_to_drop = []\n",
    "\n",
    "for i, row in df_degrons_cancer.iterrows():\n",
    "    \n",
    "    if '-' in row['Substrate'] and row['Substrate'].split('-')[1] != 1:\n",
    "        index_to_drop.append(i)\n",
    "        \n",
    "    elif '-' in row['Substrate'] and row['Substrate'].split('-')[1] == 1:\n",
    "        df_degrons_cancer.loc[i,'Substrate'] = row['Substrate'].split('-')[0]\n",
    "        \n",
    "    if row['Substrate'] == 'A0A0B4J1T2': # manually correct as the ID is different\n",
    "        df_degrons_cancer.loc[i,'Substrate'] = 'P10275'\n",
    "\n",
    "df_degrons_cancer.drop(index_to_drop, axis = 0, inplace = True)\n",
    "df_degrons_cancer.reset_index(inplace = True, drop = True)\n"
   ]
  },
  {
   "cell_type": "markdown",
   "id": "2c08fc6c",
   "metadata": {},
   "source": [
    "### Martínez-Jiménez et al. (2019)"
   ]
  },
  {
   "cell_type": "markdown",
   "id": "e178124d",
   "metadata": {},
   "source": [
    "- TableS1-DegAnnInst from the paper\n",
    "    - The column DEGRON contains the identifier of the E3ligase and motif of the ligase (E3ligase is the second word after the first \"_\")\n",
    "    - The column Entry contains the ID of the substrate "
   ]
  },
  {
   "cell_type": "code",
   "execution_count": 14,
   "id": "80c31e59",
   "metadata": {},
   "outputs": [],
   "source": [
    "# Load df\n",
    "df_martinez = pd.read_csv(mjimenez_path,sep = '\\t', usecols = ['DEGRON','Entry','START','END'])\n",
    "\n",
    "# Generalize column names\n",
    "df_martinez = df_martinez[['DEGRON','Entry','START','END']]\n",
    "df_martinez.columns = ['Degron','Substrate','Start','End']\n",
    "\n",
    "# Annotate source\n",
    "df_martinez['Database'] = 'Manual'\n",
    "\n",
    "df_martinez.drop_duplicates(inplace = True, ignore_index = True)\n",
    "\n",
    "# Handle isoforms\n",
    "##to eliminate the '-' in some of the substrates (those that are from different isoforms)\n",
    "##we will keep only the canonical isoform since the others may have a different position (indicated with \"_1\") \n",
    "index_to_drop = []\n",
    "\n",
    "for i, row in df_martinez.iterrows(): \n",
    "    \n",
    "    if '-' in row['Substrate'] and row['Substrate'].split('-')[1] != 1:\n",
    "        index_to_drop.append(i)\n",
    "        \n",
    "    elif '-' in row['Substrate'] and row['Substrate'].split('-')[1] == 1:\n",
    "        df_martinez.loc[i,'Substrate'] = row['Substrate'].split('-')[0]\n",
    "        \n",
    "    if row['Substrate'] == 'A0A0B4J1T2': # manually correct as the ID is different\n",
    "        df_martinez.loc[i,'Substrate'] = 'P10275'\n",
    "\n",
    "df_martinez.drop(index_to_drop, axis = 0, inplace = True)\n",
    "df_martinez.reset_index(inplace = True, drop = True)"
   ]
  },
  {
   "cell_type": "code",
   "execution_count": 15,
   "id": "945a0484",
   "metadata": {},
   "outputs": [
    {
     "name": "stdout",
     "output_type": "stream",
     "text": [
      "Instances from ELM: 96\n",
      "Instances from Degrons cancer: 191\n",
      "Instances from Martinez: 146\n",
      "\n"
     ]
    }
   ],
   "source": [
    "print('Instances from ELM: '+str(len(df_elm))+'\\n'+\n",
    "     'Instances from Degrons cancer: '+str(len(df_degrons_cancer))+'\\n'+\n",
    "     'Instances from Martinez: '+str(len(df_martinez))+'\\n')"
   ]
  },
  {
   "cell_type": "markdown",
   "id": "da340d45",
   "metadata": {},
   "source": [
    "## Manual curation to check overlaps between the databases"
   ]
  },
  {
   "cell_type": "code",
   "execution_count": 16,
   "id": "395b278c",
   "metadata": {
    "scrolled": true
   },
   "outputs": [
    {
     "name": "stdout",
     "output_type": "stream",
     "text": [
      "              Degron Substrate  Start  End Database\n",
      "108  DEG_APCC_DBOX_1    Q96GD4    315  323   Manual\n",
      "              Degron Substrate  Start  End        Database\n",
      "6  DEG_APCC_KENBOX_2    Q96GD4      3    7  Degrons_cancer\n",
      "7              Other    Q96GD4     26   29  Degrons_cancer\n",
      "8              D-box    Q96GD4    315  321  Degrons_cancer\n",
      "\n",
      "\n",
      "            Degron Substrate  Start  End Database\n",
      "8  LIG_APCC_ABBA_1    O43683    527  532   Manual\n",
      "               Degron Substrate  Start  End        Database\n",
      "19  DEG_APCC_KENBOX_2    O43683    534  538  Degrons_cancer\n",
      "20  DEG_APCC_KENBOX_2    O43683    624  628  Degrons_cancer\n",
      "21               ABBA    O43683    527  532  Degrons_cancer\n",
      "\n",
      "\n",
      "             Degron Substrate  Start  End Database\n",
      "11  LIG_APCC_ABBA_1    O60566    272  277   Manual\n",
      "12  LIG_APCC_ABBA_1    O60566    340  345   Manual\n",
      "13  LIG_APCC_ABBA_1    O60566    528  533   Manual\n",
      "               Degron Substrate  Start  End        Database\n",
      "13  DEG_APCC_KENBOX_2    O60566     25   29  Degrons_cancer\n",
      "14  DEG_APCC_KENBOX_2    O60566    303  307  Degrons_cancer\n",
      "15               ABBA    O60566    340  345  Degrons_cancer\n",
      "16               ABBA    O60566    528  533  Degrons_cancer\n",
      "17               ABBA    O60566    272  275  Degrons_cancer\n",
      "18              D-box    O60566    224  230  Degrons_cancer\n",
      "\n",
      "\n",
      "             Degron Substrate  Start  End Database\n",
      "43  LIG_APCC_ABBA_1    P20248     99  104   Manual\n",
      "   Degron Substrate  Start  End        Database\n",
      "24  D-box    P20248     47   53  Degrons_cancer\n",
      "25   ABBA    P20248     99  104  Degrons_cancer\n",
      "\n",
      "\n",
      "                Degron Substrate  Start  End Database\n",
      "118  DEG_APCC_KENBOX_2    Q9BXS6    382  386   Manual\n",
      "      Degron Substrate  Start  End        Database\n",
      "140    D-box    Q9BXS6    433  439  Degrons_cancer\n",
      "141  KEN-box    Q9BXS6    384  386  Degrons_cancer\n",
      "\n",
      "\n",
      "               Degron Substrate  Start   End Database\n",
      "90  DEG_APCC_KENBOX_2    Q15468   1243  1247   Manual\n",
      "      Degron Substrate  Start   End        Database\n",
      "173  KEN-box    Q15468   1243  1245  Degrons_cancer\n",
      "\n",
      "\n",
      "               Degron Substrate  Start  End Database\n",
      "14  DEG_APCC_KENBOX_2    O75330    696  700   Manual\n",
      "     Degron Substrate  Start  End        Database\n",
      "96    D-box    O75330    702  708  Degrons_cancer\n",
      "97    D-box    O75330    659  665  Degrons_cancer\n",
      "98  KEN-box    O75330    696  698  Degrons_cancer\n",
      "\n",
      "\n",
      "     Degron Substrate  Start   End Database\n",
      "77  CBL_MET    Q04912   1016  1018   Manual\n",
      "    Degron Substrate  Start   End        Database\n",
      "119    CBL    Q04912   1012  1022  Degrons_cancer\n",
      "\n",
      "\n",
      "     Degron Substrate  Start   End Database\n",
      "68  CBL_MET    P51805   1298  1300   Manual\n",
      "    Degron Substrate  Start   End        Database\n",
      "149    CBL    P51805   1294  1304  Degrons_cancer\n",
      "\n",
      "\n",
      "      Degron Substrate  Start   End Database\n",
      "134  CBL_MET    Q9UIW2   1323  1325   Manual\n",
      "    Degron Substrate  Start   End        Database\n",
      "148    CBL    Q9UIW2   1319  1329  Degrons_cancer\n",
      "\n",
      "\n",
      "    Degron Substrate  Start  End Database\n",
      "3  CBL_PTK    O43597     51   59   Manual\n",
      "    Degron Substrate  Start  End        Database\n",
      "170    CBL    O43597     49   60  Degrons_cancer\n",
      "\n",
      "\n",
      "     Degron Substrate  Start  End Database\n",
      "28  CBL_PTK    P08138    332  340   Manual\n",
      "    Degron Substrate  Start  End        Database\n",
      "134    CBL    P08138    330  341  Degrons_cancer\n",
      "\n",
      "\n",
      "     Degron Substrate  Start   End Database\n",
      "20  CBL_PTK    P00533   1063  1073   Manual\n",
      "   Degron Substrate  Start   End        Database\n",
      "66    CBL    P00533   1063  1074  Degrons_cancer\n",
      "\n",
      "\n",
      "    Degron Substrate  Start  End Database\n",
      "4  CBL_PTK    O43609     51   57   Manual\n",
      "    Degron Substrate  Start  End        Database\n",
      "169    CBL    O43609     47   58  Degrons_cancer\n",
      "\n",
      "\n",
      "     Degron Substrate  Start  End Database\n",
      "60  CBL_PTK    P43403    288  296   Manual\n",
      "    Degron Substrate  Start  End        Database\n",
      "188    CBL    P43403    286  297  Degrons_cancer\n",
      "\n",
      "\n",
      "            Degron Substrate  Start  End Database\n",
      "56  DEG_SCF_FBW7_1    P42345    313  318   Manual\n",
      "             Degron Substrate  Start  End        Database\n",
      "120  FBW7_predicted    P42345    313  318  Degrons_cancer\n",
      "\n",
      "\n",
      "      Degron Substrate  Start  End Database\n",
      "139  CBL_APS    Q9UQQ2    566  573   Manual\n",
      "    Degron Substrate  Start  End        Database\n",
      "164    CBL    Q9UQQ2    566  575  Degrons_cancer\n",
      "\n",
      "\n",
      "      Degron Substrate  Start  End Database\n",
      "129  CBL_APS    Q9NRF2    747  754   Manual\n",
      "    Degron Substrate  Start  End        Database\n",
      "163    CBL    Q9NRF2    747  756  Degrons_cancer\n",
      "\n",
      "\n"
     ]
    },
    {
     "data": {
      "text/plain": [
       "106"
      ]
     },
     "execution_count": 16,
     "metadata": {},
     "output_type": "execute_result"
    }
   ],
   "source": [
    "# Manual curation to check the data from Martinez's paper (compared to degrons in cancer)\n",
    "\n",
    "index_to_delete_martinez = []\n",
    "\n",
    "# Iterate through Martinez degron motifs\n",
    "for degron in set(df_martinez['Degron']):\n",
    "    submatrix = df_martinez[df_martinez['Degron'] == degron]\n",
    "    \n",
    "    # Iterate through each motif's substrates\n",
    "    for subs in set(submatrix['Substrate']):\n",
    "        submatrix2 = submatrix[submatrix['Substrate'] == subs]\n",
    "        \n",
    "        # Degron in cancer corresponding substrate\n",
    "        submatrix2_degrons_cancer = df_degrons_cancer[df_degrons_cancer['Substrate'] == subs]\n",
    "        \n",
    "        # If both datasets have the substrate\n",
    "        if len(submatrix2_degrons_cancer) > 0:\n",
    "            \n",
    "            # Check overlaps\n",
    "            mask = submatrix2.apply(lambda x: check_overlap(x, submatrix2_degrons_cancer), axis = 1)\n",
    "            index_to_delete_martinez.append(submatrix2[mask].index.tolist())\n",
    "            \n",
    "            # print different degrons\n",
    "            if any([x not in list(submatrix2_degrons_cancer['Degron']) for x in list(submatrix2[mask]['Degron'])]):\n",
    "                print(submatrix2[mask])\n",
    "                print(submatrix2_degrons_cancer)\n",
    "                print('\\n')\n",
    "\n",
    "index_to_delete_martinez = functools.reduce(operator.iconcat, index_to_delete_martinez, [])\n",
    "\n",
    "len(index_to_delete_martinez)            "
   ]
  },
  {
   "cell_type": "markdown",
   "id": "476b4c9b",
   "metadata": {},
   "source": [
    "It can be seen that in the cases that the Degron is not totally equal, it is actually the same Degron but with different name."
   ]
  },
  {
   "cell_type": "code",
   "execution_count": 17,
   "id": "512315ae",
   "metadata": {},
   "outputs": [],
   "source": [
    "# Delete those sequences that are duplicated in Martinez and degrons in cancer\n",
    "\n",
    "df_martinez.drop(index_to_delete_martinez, inplace = True)\n",
    "df_martinez.reset_index(inplace = True, drop = True)"
   ]
  },
  {
   "cell_type": "code",
   "execution_count": 18,
   "id": "58f2a62e",
   "metadata": {},
   "outputs": [
    {
     "data": {
      "text/plain": [
       "17"
      ]
     },
     "execution_count": 18,
     "metadata": {},
     "output_type": "execute_result"
    }
   ],
   "source": [
    "# Manual curation to check the data from Martinez's paper (compared to ELM)\n",
    "\n",
    "index_to_delete_martinez2 = []\n",
    "\n",
    "# Iterate through Martinez degron motifs\n",
    "for degron in set(df_martinez['Degron']):\n",
    "    submatrix = df_martinez[df_martinez['Degron'] == degron]\n",
    "    \n",
    "    # Iterate through each motif's substrates\n",
    "    for subs in set(submatrix['Substrate']):\n",
    "        submatrix2 = submatrix[submatrix['Substrate'] == subs]\n",
    "        \n",
    "        # ELM corresponding substrate\n",
    "        submatrix2_elm = df_elm[df_elm['Substrate'] == subs]\n",
    "        \n",
    "        # If both datasets have the substrate\n",
    "        if len(submatrix2_elm) > 0:\n",
    "            mask = submatrix2.apply(lambda x: check_overlap(x, submatrix2_elm), axis = 1)\n",
    "            index_to_delete_martinez2.append(submatrix2[mask].index.tolist())\n",
    "            \n",
    "            # print different degrons\n",
    "            if any([x not in list(submatrix2_elm['Degron']) for x in list(submatrix2[mask]['Degron'])]):\n",
    "                print(submatrix2[mask])\n",
    "                print(submatrix2_elm)\n",
    "                print('\\n')\n",
    "\n",
    "index_to_delete_martinez2 = functools.reduce(operator.iconcat, index_to_delete_martinez2, [])\n",
    "\n",
    "len(index_to_delete_martinez2)         "
   ]
  },
  {
   "cell_type": "code",
   "execution_count": 19,
   "id": "4e26568b",
   "metadata": {
    "scrolled": false
   },
   "outputs": [],
   "source": [
    "# Delete those sequences that are duplicated in Martinez and ELM\n",
    "\n",
    "df_martinez.drop(index_to_delete_martinez2,inplace=True)\n",
    "df_martinez.reset_index(inplace=True,drop=True)"
   ]
  },
  {
   "cell_type": "code",
   "execution_count": 20,
   "id": "24d1a2b9",
   "metadata": {
    "scrolled": true
   },
   "outputs": [
    {
     "name": "stdout",
     "output_type": "stream",
     "text": [
      "       Degron Substrate  Start  End        Database\n",
      "30  SCF_FBXL2    P30281    279  292  Degrons_cancer\n",
      "             Degron Substrate  Start  End Database\n",
      "0  DEG_SCF_FBXO31_1    P30281    286  292      ELM\n",
      "\n",
      "\n",
      "  Degron Substrate  Start  End        Database\n",
      "8  D-box    Q96GD4    315  321  Degrons_cancer\n",
      "               Degron Substrate  Start  End Database\n",
      "51  DEG_APCC_KENBOX_2    Q96GD4      3    7      ELM\n",
      "95    DEG_APCC_DBOX_1    Q96GD4    314  322      ELM\n",
      "\n",
      "\n",
      "       Degron Substrate  Start  End        Database\n",
      "50  CRL4_Cdt2    P49918    270  282  Degrons_cancer\n",
      "                 Degron Substrate  Start  End Database\n",
      "41  DEG_SCF_SKP2-CKS1_1    P49918    306  313      ELM\n",
      "50      DEG_CRL4_CDT2_1    P49918    270  282      ELM\n",
      "\n",
      "\n"
     ]
    },
    {
     "data": {
      "text/plain": [
       "78"
      ]
     },
     "execution_count": 20,
     "metadata": {},
     "output_type": "execute_result"
    }
   ],
   "source": [
    "# Manual curation to check the data from degrons cancer (compared to ELM)\n",
    "\n",
    "index_to_delete_degrons_cancer = []\n",
    "\n",
    "# Iterate through Degrons cancer degron motifs\n",
    "for degron in set(df_degrons_cancer['Degron']):\n",
    "    submatrix = df_degrons_cancer[df_degrons_cancer['Degron'] == degron]\n",
    "    \n",
    "    # Iterate through each motif's substrates\n",
    "    for subs in set(submatrix['Substrate']):\n",
    "        submatrix2 = submatrix[submatrix['Substrate'] == subs]\n",
    "        \n",
    "        # ELM corresponding substrate\n",
    "        submatrix2_elm = df_elm[df_elm['Substrate'] == subs]\n",
    "        \n",
    "        # If both datasets have the substrate\n",
    "        if len(submatrix2_elm) > 0:\n",
    "            mask = submatrix2.apply(lambda x: check_overlap(x, submatrix2_elm), axis = 1)\n",
    "            index_to_delete_degrons_cancer.append(submatrix2[mask].index.tolist())\n",
    "\n",
    "            # print different degrons\n",
    "            if any([x not in list(submatrix2_elm['Degron']) for x in list(submatrix2[mask]['Degron'])]):\n",
    "                print(submatrix2[mask])\n",
    "                print(submatrix2_elm)\n",
    "                print('\\n')\n",
    "\n",
    "index_to_delete_degrons_cancer = functools.reduce(operator.iconcat, index_to_delete_degrons_cancer, [])\n",
    "\n",
    "len(index_to_delete_degrons_cancer)               "
   ]
  },
  {
   "cell_type": "markdown",
   "id": "5c5e2ee9",
   "metadata": {
    "scrolled": true
   },
   "source": [
    "As in the previous df, those cases with different degron are the same but having a different name."
   ]
  },
  {
   "cell_type": "code",
   "execution_count": 21,
   "id": "943343f7",
   "metadata": {
    "scrolled": true
   },
   "outputs": [],
   "source": [
    "# Delete those sequences that are duplicated in degrons in cancer and ELM\n",
    "\n",
    "df_degrons_cancer.drop(index_to_delete_degrons_cancer,inplace=True)\n",
    "df_degrons_cancer.reset_index(inplace=True,drop=True)\n"
   ]
  },
  {
   "cell_type": "markdown",
   "id": "caf17ac6",
   "metadata": {},
   "source": [
    "### Remove \"Unknown degron\" and others"
   ]
  },
  {
   "cell_type": "code",
   "execution_count": 22,
   "id": "0aae32a8",
   "metadata": {
    "scrolled": true
   },
   "outputs": [
    {
     "name": "stdout",
     "output_type": "stream",
     "text": [
      "     Degron Substrate  Start  End        Database\n",
      "18  UNKNOWN    P30281    278  290  Degrons_cancer\n",
      "             Degron Substrate  Start  End Database\n",
      "0  DEG_SCF_FBXO31_1    P30281    286  292      ELM\n",
      "\n",
      "\n",
      "             Degron Substrate  Start  End Database\n",
      "58  DEG_SCF_TRCP1_1    P16471    348  353      ELM\n",
      "            Degron Substrate  Start  End        Database\n",
      "87  SCF_beta-TrCP2    P16471    347  351  Degrons_cancer\n",
      "\n",
      "\n"
     ]
    }
   ],
   "source": [
    "# visualization of those sequences\n",
    "## UNKNOWN very likely is DEG_SCF_FBX031_1 of ELM\n",
    "print(df_degrons_cancer[(df_degrons_cancer['Degron'] == 'UNKNOWN') \n",
    "                        & (df_degrons_cancer['Substrate'] == 'P30281') \n",
    "                        & (df_degrons_cancer['Start'] == 278) \n",
    "                        & (df_degrons_cancer['End'] == 290)])\n",
    "print(df_elm[(df_elm['Degron'] == 'DEG_SCF_FBXO31_1') \n",
    "             & (df_elm['Substrate'] == 'P30281') \n",
    "             & (df_elm['Start'] == 286) \n",
    "             & (df_elm['End'] == 292)])\n",
    "print('\\n')\n",
    "\n",
    "## DEG_SCF_TRCP1_1 of ELM very likely SCF_beta-TrCP2 of Degrons cancer\n",
    "print(df_elm[(df_elm['Degron'] == 'DEG_SCF_TRCP1_1')\n",
    "             & (df_elm['Substrate'] == 'P16471')])\n",
    "print(df_degrons_cancer[(df_degrons_cancer['Degron'] == 'SCF_beta-TrCP2') \n",
    "                        & (df_degrons_cancer['Substrate'] == 'P16471') \n",
    "                        & (df_degrons_cancer['Start'] == 347) \n",
    "                        & (df_degrons_cancer['End'] == 351)])\n",
    "print('\\n')\n",
    "\n",
    "# removal of these sequences\n",
    "df_degrons_cancer = df_degrons_cancer.drop(df_degrons_cancer[\n",
    "    (df_degrons_cancer['Degron'] == 'UNKNOWN') \n",
    "    & (df_degrons_cancer['Substrate'] == 'P30281')\n",
    "    & (df_degrons_cancer['Start'] == 278) \n",
    "    & (df_degrons_cancer['End'] == 290)].index.tolist(), axis = 0)\n",
    "df_degrons_cancer = df_degrons_cancer.drop(df_degrons_cancer[\n",
    "    (df_degrons_cancer['Degron'] == 'SCF_beta-TrCP2') \n",
    "    & (df_degrons_cancer['Substrate'] == 'P16471') \n",
    "    & (df_degrons_cancer['Start'] == 347) \n",
    "    & (df_degrons_cancer['End'] == 351)].index.tolist(), axis = 0)\n",
    "\n",
    "\n",
    "# reset indexes\n",
    "df_degrons_cancer.reset_index(inplace = True, drop = True)\n"
   ]
  },
  {
   "cell_type": "code",
   "execution_count": 23,
   "id": "942367b4",
   "metadata": {},
   "outputs": [
    {
     "name": "stdout",
     "output_type": "stream",
     "text": [
      "After removing manually the duplicated sequences we have: \n",
      "Instances from ELM: 96\n",
      "Instances from Degrons cancer: 111\n",
      "Instances from Martinez: 23\n",
      "\n"
     ]
    }
   ],
   "source": [
    "print('After removing manually the duplicated sequences we have: \\n'+\n",
    "      'Instances from ELM: '+str(len(df_elm))+'\\n'+\n",
    "      'Instances from Degrons cancer: '+str(len(df_degrons_cancer))+'\\n'+\n",
    "      'Instances from Martinez: '+str(len(df_martinez))+'\\n')"
   ]
  },
  {
   "cell_type": "markdown",
   "id": "c8668868",
   "metadata": {},
   "source": [
    "## Generate ELM-Manual database (concatenate dfs)"
   ]
  },
  {
   "cell_type": "markdown",
   "id": "a8007ec1",
   "metadata": {},
   "source": [
    "Join the 3 dataframes in a unique dataframe keeping the origin of the data."
   ]
  },
  {
   "cell_type": "code",
   "execution_count": 24,
   "id": "46c5c49a",
   "metadata": {},
   "outputs": [
    {
     "name": "stdout",
     "output_type": "stream",
     "text": [
      "Instances from ELM: 96\n",
      "Instances from Degrons cancer: 111\n",
      "Instances from Martinez: 23\n",
      "Instances unique from the ELM and Degrons cancer: 207\n",
      "Instances unique from the 3 sets: 230\n",
      "\n"
     ]
    }
   ],
   "source": [
    "# concat ELM and Degron cancer, and drop duplicates (safety measure)\n",
    "new_df = pd.concat([df_elm, df_degrons_cancer], axis = 0)\n",
    "\n",
    "new_df.reset_index(inplace = True, drop = True)\n",
    "new_df.drop_duplicates(inplace = True, ignore_index = True, subset = ['Degron','Substrate','Start','End'])\n",
    "\n",
    "# concat with Martines\n",
    "new_df2 = pd.concat([new_df, df_martinez], axis = 0)\n",
    "new_df2.reset_index(inplace = True, drop = True)\n",
    "new_df2.drop_duplicates(inplace = True, ignore_index = True, subset = ['Degron','Substrate','Start','End'])\n",
    "new_df2.reset_index(inplace = True, drop = True)\n",
    "\n",
    "\n",
    "print('Instances from ELM: '+str(len(df_elm))+'\\n'+\n",
    "     'Instances from Degrons cancer: '+str(len(df_degrons_cancer))+'\\n'+\n",
    "     'Instances from Martinez: '+str(len(df_martinez))+'\\n'+\n",
    "     'Instances unique from the ELM and Degrons cancer: '+str(len(new_df))+'\\n'\n",
    "     'Instances unique from the 3 sets: '+str(len(new_df2))+'\\n')"
   ]
  },
  {
   "cell_type": "markdown",
   "id": "941feca0",
   "metadata": {},
   "source": [
    "### Add amino acid sequence per substrate"
   ]
  },
  {
   "cell_type": "code",
   "execution_count": 25,
   "id": "f45d1deb",
   "metadata": {},
   "outputs": [],
   "source": [
    "# Load proteome as dict\n",
    "proteome = readFasta_gzip(proteome_path)"
   ]
  },
  {
   "cell_type": "code",
   "execution_count": 26,
   "id": "364ca485",
   "metadata": {
    "scrolled": true
   },
   "outputs": [],
   "source": [
    "for i, row in new_df2.iterrows():\n",
    "    if row['Substrate'] in proteome:\n",
    "        new_df2.loc[i,'Sequence'] = proteome[row['Substrate']][row['Start']-1:row['End']]"
   ]
  },
  {
   "cell_type": "markdown",
   "id": "9464fd40",
   "metadata": {},
   "source": [
    "### Add extended amino acid sequence (20 aa)"
   ]
  },
  {
   "cell_type": "code",
   "execution_count": 28,
   "id": "3b053d78",
   "metadata": {},
   "outputs": [],
   "source": [
    "for i, row in new_df2.iterrows():\n",
    "    new_df2.loc[i, ['Sequence_amplified','Start_amplified','End_amplified']] = completed_sequence(\n",
    "    row['Substrate'], row['Sequence'], row['Start'], row['End'], total_len = 20,\n",
    "        dic_fasta_seqs = proteome)"
   ]
  },
  {
   "cell_type": "markdown",
   "id": "55eea702",
   "metadata": {},
   "source": [
    "### Save the dataframe"
   ]
  },
  {
   "cell_type": "code",
   "execution_count": 29,
   "id": "04b0de66",
   "metadata": {
    "scrolled": true
   },
   "outputs": [],
   "source": [
    "new_df2.to_csv(elm_manual_path, sep = '\\t', index = False)"
   ]
  }
 ],
 "metadata": {
  "kernelspec": {
   "display_name": "Python 3 (ipykernel)",
   "language": "python",
   "name": "python3"
  },
  "language_info": {
   "codemirror_mode": {
    "name": "ipython",
    "version": 3
   },
   "file_extension": ".py",
   "mimetype": "text/x-python",
   "name": "python",
   "nbconvert_exporter": "python",
   "pygments_lexer": "ipython3",
   "version": "3.9.7"
  }
 },
 "nbformat": 4,
 "nbformat_minor": 5
}
