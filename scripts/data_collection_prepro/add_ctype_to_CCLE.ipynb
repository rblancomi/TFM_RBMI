{
 "cells": [
  {
   "cell_type": "markdown",
   "id": "cac9561e",
   "metadata": {},
   "source": [
    "# Add cancer type to CCLE cell lines"
   ]
  },
  {
   "cell_type": "markdown",
   "id": "ac1e1d7c",
   "metadata": {},
   "source": [
    "This notebook contains the code to add the cancer type in the stability change table of CCLE dataset, for later visualization."
   ]
  },
  {
   "cell_type": "markdown",
   "id": "813d1a4c",
   "metadata": {},
   "source": [
    "## Import libraries"
   ]
  },
  {
   "cell_type": "code",
   "execution_count": 1,
   "id": "0f02df21",
   "metadata": {},
   "outputs": [],
   "source": [
    "import sys\n",
    "import pandas as pd\n",
    "from tqdm import tqdm\n",
    "tqdm.pandas()"
   ]
  },
  {
   "cell_type": "markdown",
   "id": "6918f549",
   "metadata": {},
   "source": [
    "## Define paths"
   ]
  },
  {
   "cell_type": "code",
   "execution_count": 2,
   "id": "4759ddf1",
   "metadata": {},
   "outputs": [],
   "source": [
    "base = \"../\"\n",
    "cluster = \"/workspace/projects/degrons/\"\n",
    "\n",
    "data = \"data/\"\n",
    "results = \"results/\"\n",
    "\n",
    "stabch_panc_ccle_path = os.path.join(base, results, \n",
    "\"stability_change_annot_degrons/stability_change_cclems.tsv.gz\")\n",
    "stabch_panc_ccle_ctype_path = os.path.join(base, results, \n",
    "\"stability_change_annot_degrons/stability_change_cclems_wth_ctype.tsv.gz\")"
   ]
  },
  {
   "cell_type": "markdown",
   "id": "3da3e148",
   "metadata": {},
   "source": [
    "## Load data and add cancer type"
   ]
  },
  {
   "cell_type": "code",
   "execution_count": 3,
   "id": "65807ee2",
   "metadata": {},
   "outputs": [],
   "source": [
    "# CCLE MS\n",
    "ccle_stabch = pd.read_csv(stabch_panc_ccle_path, sep = \"\\t\", compression = \"gzip\")"
   ]
  },
  {
   "cell_type": "code",
   "execution_count": 4,
   "id": "10239f6b",
   "metadata": {},
   "outputs": [
    {
     "name": "stderr",
     "output_type": "stream",
     "text": [
      "100%|█████████████████████████████████████████████████████████████████| 7241032/7241032 [1:13:51<00:00, 1634.12it/s]\n"
     ]
    }
   ],
   "source": [
    "def get_ctype_ccle(row):\n",
    "    \n",
    "    row[\"cancer_type\"] = \" \".join(row[\"sample\"].split(\"_\")[1:])\n",
    "    \n",
    "    return row\n",
    "\n",
    "ccle_stabch = ccle_stabch.progress_apply(lambda row: get_ctype_ccle(row), axis = 1)"
   ]
  },
  {
   "cell_type": "code",
   "execution_count": 5,
   "id": "7fee4e4e",
   "metadata": {},
   "outputs": [],
   "source": [
    "ccle_stabch.to_csv(stabch_panc_ccle_ctype_path, sep = \"\\t\", compression = \"gzip\", index = False)"
   ]
  }
 ],
 "metadata": {
  "kernelspec": {
   "display_name": "Python 3 (ipykernel)",
   "language": "python",
   "name": "python3"
  },
  "language_info": {
   "codemirror_mode": {
    "name": "ipython",
    "version": 3
   },
   "file_extension": ".py",
   "mimetype": "text/x-python",
   "name": "python",
   "nbconvert_exporter": "python",
   "pygments_lexer": "ipython3",
   "version": "3.9.7"
  }
 },
 "nbformat": 4,
 "nbformat_minor": 5
}
