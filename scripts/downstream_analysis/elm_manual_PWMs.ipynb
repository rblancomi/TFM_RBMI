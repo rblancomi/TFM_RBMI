{
 "cells": [
  {
   "cell_type": "markdown",
   "id": "b2ae1fa9",
   "metadata": {},
   "source": [
    "# ELM-Manual motifs. From degron sequences to alignments to Position Weight Matrices (PWMs)"
   ]
  },
  {
   "cell_type": "markdown",
   "id": "ad394e07",
   "metadata": {},
   "source": [
    "This notebook contains the code to generate ELM-Manual PWMs, which are those used for further analysis. "
   ]
  },
  {
   "cell_type": "markdown",
   "id": "acbcace5",
   "metadata": {},
   "source": [
    "The process of generating PWMs from ELM-Manual motifs consists of:\n",
    "- Retrieving motif's degrons sequences in FASTA format from the ELM-Manual database.\n",
    "- Performing a MSA using, in this case, Clustal Omega EBI tool.\n",
    "- Manually curating the alignments with Aliview software, so that gaps are removed, degrons sequences maintained (we are using extended degron sequences) and conserved positions are maximized (not in this notebook).\n",
    "- Generating PWMs from this alignments."
   ]
  },
  {
   "cell_type": "markdown",
   "id": "36226f9c",
   "metadata": {},
   "source": [
    "## Import libraries"
   ]
  },
  {
   "cell_type": "code",
   "execution_count": 9,
   "id": "295e8b4a",
   "metadata": {},
   "outputs": [
    {
     "name": "stdout",
     "output_type": "stream",
     "text": [
      "The autoreload extension is already loaded. To reload it, use:\n",
      "  %reload_ext autoreload\n"
     ]
    }
   ],
   "source": [
    "# to reload automatically the changes in the scripts.\n",
    "%load_ext autoreload\n",
    "%autoreload 2"
   ]
  },
  {
   "cell_type": "code",
   "execution_count": 10,
   "id": "00867cbb",
   "metadata": {},
   "outputs": [],
   "source": [
    "import os\n",
    "import sys\n",
    "import pandas as pd\n",
    "import numpy as np\n",
    "import logomaker\n",
    "import xmltramp2\n",
    "\n",
    "## my modules ##\n",
    "sys.path.append(\"../scripts/Utils/\")    # modules folder\n",
    "from fasta_utils import generate_fasta_from_df"
   ]
  },
  {
   "cell_type": "markdown",
   "id": "1093ef8e",
   "metadata": {},
   "source": [
    "## Define variables and paths\n"
   ]
  },
  {
   "cell_type": "code",
   "execution_count": 1,
   "id": "0b5b4a29",
   "metadata": {},
   "outputs": [],
   "source": [
    "base = \"../../\"\n",
    "\n",
    "data = \"data/\"\n",
    "\n",
    "elm_manual_E3_consensusID_path = os.path.join(base, data, \"elm_manual/elm_manual_instances_E3ligases_consensusID.tsv\")\n",
    "elm_manual_true_degrons_fasta_path = os.path.join(base, data, \"elm_manual/positive_set_fasta/\")\n",
    "elm_manual_align_clustal_path = os.path.join(base, data, \"elm_manual/alignments/clustal\")\n",
    "elm_manual_align_curated_path = os.path.join(base, data, \"elm_manual/alignments/curated\")\n",
    "weight_m_path = os.path.join(base, data, \"elm_manual/motif_matrices/PWM/\")                 \n",
    "prob_m_path = os.path.join(base, data, \"elm_manual/motif_matrices/PPM/\")       "
   ]
  },
  {
   "cell_type": "code",
   "execution_count": 12,
   "id": "efb9cf92",
   "metadata": {},
   "outputs": [],
   "source": [
    "# variables\n",
    "\n",
    "# aa background probabilities (sorted by aa)\n",
    "bg_matrix = pd.read_table(data_path+external_data_path+aa_bg_file).sort_values(by = \"Aminoacid\")\n",
    "\n",
    "aa_probs = bg_matrix[\"Frequency\"].to_numpy()            # array with aa background frequencies\n",
    "aa = bg_matrix[\"Aminoacid\"].to_numpy()                  # array with aa names"
   ]
  },
  {
   "cell_type": "markdown",
   "id": "0e67077a",
   "metadata": {},
   "source": [
    "## Define functions"
   ]
  },
  {
   "cell_type": "code",
   "execution_count": 13,
   "id": "354fb370",
   "metadata": {},
   "outputs": [],
   "source": [
    "def run_clustal(dir_fasta, dir_output, name_file):\n",
    "    \"\"\"\n",
    "    Given a fasta file, run clustal.py and keep the result in dir_output.\n",
    "    By default, the file will be alinment_clustal.aln-clustal_num.clustal_num.\n",
    "    Only works in a Jupyter notebook. \n",
    "    \"\"\"\n",
    "    output_file = os.path.join(dir_output, name_file)\n",
    "    command = f\"python ../scripts/external/clustalo.py --email raquel.blanco@irbbarcelona.org --stype protein --sequence {dir_fasta} --outfile {output_file} --outformat aln-clustal_num\"\n",
    "    ! $command"
   ]
  },
  {
   "cell_type": "markdown",
   "id": "b5dab329",
   "metadata": {},
   "source": [
    "## 1. Retrieve motif's degrons sequences in fasta format from the ELM-Manual table"
   ]
  },
  {
   "cell_type": "markdown",
   "id": "96fee6df",
   "metadata": {},
   "source": [
    "Specifically, extended sequences."
   ]
  },
  {
   "cell_type": "code",
   "execution_count": 12,
   "id": "eabe01c4",
   "metadata": {},
   "outputs": [
    {
     "data": {
      "text/html": [
       "<div>\n",
       "<style scoped>\n",
       "    .dataframe tbody tr th:only-of-type {\n",
       "        vertical-align: middle;\n",
       "    }\n",
       "\n",
       "    .dataframe tbody tr th {\n",
       "        vertical-align: top;\n",
       "    }\n",
       "\n",
       "    .dataframe thead th {\n",
       "        text-align: right;\n",
       "    }\n",
       "</style>\n",
       "<table border=\"1\" class=\"dataframe\">\n",
       "  <thead>\n",
       "    <tr style=\"text-align: right;\">\n",
       "      <th></th>\n",
       "      <th>Degron</th>\n",
       "      <th>Substrate</th>\n",
       "      <th>Start</th>\n",
       "      <th>End</th>\n",
       "      <th>Database</th>\n",
       "      <th>Sequence</th>\n",
       "      <th>Sequence_amplified</th>\n",
       "      <th>Start_amplified</th>\n",
       "      <th>End_amplified</th>\n",
       "      <th>E3_ligase</th>\n",
       "      <th>Degron_consensusID</th>\n",
       "    </tr>\n",
       "  </thead>\n",
       "  <tbody>\n",
       "    <tr>\n",
       "      <th>0</th>\n",
       "      <td>DEG_SCF_FBXO31_1</td>\n",
       "      <td>P30281</td>\n",
       "      <td>286</td>\n",
       "      <td>292</td>\n",
       "      <td>ELM</td>\n",
       "      <td>DVTAIHL</td>\n",
       "      <td>SSSQGPSQTSTPTDVTAIHL</td>\n",
       "      <td>273.0</td>\n",
       "      <td>292.0</td>\n",
       "      <td>Q5XUX0</td>\n",
       "      <td>FBXO31</td>\n",
       "    </tr>\n",
       "    <tr>\n",
       "      <th>1</th>\n",
       "      <td>DEG_SCF_FBXO31_1</td>\n",
       "      <td>P30279</td>\n",
       "      <td>283</td>\n",
       "      <td>289</td>\n",
       "      <td>ELM</td>\n",
       "      <td>DVRDIDL</td>\n",
       "      <td>KSEDELDQASTPTDVRDIDL</td>\n",
       "      <td>270.0</td>\n",
       "      <td>289.0</td>\n",
       "      <td>Q5XUX0</td>\n",
       "      <td>FBXO31</td>\n",
       "    </tr>\n",
       "    <tr>\n",
       "      <th>2</th>\n",
       "      <td>DEG_SCF_FBXO31_1</td>\n",
       "      <td>P24385</td>\n",
       "      <td>289</td>\n",
       "      <td>295</td>\n",
       "      <td>ELM</td>\n",
       "      <td>DVRDVDI</td>\n",
       "      <td>EEEEEVDLACTPTDVRDVDI</td>\n",
       "      <td>276.0</td>\n",
       "      <td>295.0</td>\n",
       "      <td>Q5XUX0</td>\n",
       "      <td>FBXO31</td>\n",
       "    </tr>\n",
       "    <tr>\n",
       "      <th>3</th>\n",
       "      <td>DEG_COP1_1</td>\n",
       "      <td>P14921</td>\n",
       "      <td>273</td>\n",
       "      <td>283</td>\n",
       "      <td>ELM</td>\n",
       "      <td>SFNSLQRVPSY</td>\n",
       "      <td>WSSQSSFNSLQRVPSYDSFD</td>\n",
       "      <td>268.0</td>\n",
       "      <td>287.0</td>\n",
       "      <td>Q8NHY2</td>\n",
       "      <td>COP1</td>\n",
       "    </tr>\n",
       "    <tr>\n",
       "      <th>4</th>\n",
       "      <td>DEG_COP1_1</td>\n",
       "      <td>P15036</td>\n",
       "      <td>301</td>\n",
       "      <td>311</td>\n",
       "      <td>ELM</td>\n",
       "      <td>SLLDVQRVPSF</td>\n",
       "      <td>WNSQSSLLDVQRVPSFESFE</td>\n",
       "      <td>296.0</td>\n",
       "      <td>315.0</td>\n",
       "      <td>Q8NHY2</td>\n",
       "      <td>COP1</td>\n",
       "    </tr>\n",
       "    <tr>\n",
       "      <th>...</th>\n",
       "      <td>...</td>\n",
       "      <td>...</td>\n",
       "      <td>...</td>\n",
       "      <td>...</td>\n",
       "      <td>...</td>\n",
       "      <td>...</td>\n",
       "      <td>...</td>\n",
       "      <td>...</td>\n",
       "      <td>...</td>\n",
       "      <td>...</td>\n",
       "      <td>...</td>\n",
       "    </tr>\n",
       "    <tr>\n",
       "      <th>225</th>\n",
       "      <td>DEG_CRL4_CDT2_1</td>\n",
       "      <td>Q9NQR1</td>\n",
       "      <td>178</td>\n",
       "      <td>190</td>\n",
       "      <td>Manual</td>\n",
       "      <td>PPKTPPSSCDSTN</td>\n",
       "      <td>EAAEPPKTPPSSCDSTNAAI</td>\n",
       "      <td>174.0</td>\n",
       "      <td>193.0</td>\n",
       "      <td>Q9NZJ0</td>\n",
       "      <td>DTL</td>\n",
       "    </tr>\n",
       "    <tr>\n",
       "      <th>226</th>\n",
       "      <td>CBL_MET</td>\n",
       "      <td>Q9UIW2</td>\n",
       "      <td>441</td>\n",
       "      <td>443</td>\n",
       "      <td>Manual</td>\n",
       "      <td>DYR</td>\n",
       "      <td>DGLTAVAAYDYRGRTVVFAG</td>\n",
       "      <td>432.0</td>\n",
       "      <td>451.0</td>\n",
       "      <td>P22681</td>\n",
       "      <td>CBL_MET</td>\n",
       "    </tr>\n",
       "    <tr>\n",
       "      <th>227</th>\n",
       "      <td>DEG_APCC_TPR_1</td>\n",
       "      <td>Q9UM11</td>\n",
       "      <td>491</td>\n",
       "      <td>493</td>\n",
       "      <td>Manual</td>\n",
       "      <td>LFT</td>\n",
       "      <td>SKTRSTKVKWESVSVLNLFT</td>\n",
       "      <td>474.0</td>\n",
       "      <td>493.0</td>\n",
       "      <td>NaN</td>\n",
       "      <td>DEG_APCC_TPR_1</td>\n",
       "    </tr>\n",
       "    <tr>\n",
       "      <th>228</th>\n",
       "      <td>CBL_MET</td>\n",
       "      <td>Q9UQQ2</td>\n",
       "      <td>88</td>\n",
       "      <td>90</td>\n",
       "      <td>Manual</td>\n",
       "      <td>DYR</td>\n",
       "      <td>VRDGRAPGRDYRDTGRGPPA</td>\n",
       "      <td>79.0</td>\n",
       "      <td>98.0</td>\n",
       "      <td>P22681</td>\n",
       "      <td>CBL_MET</td>\n",
       "    </tr>\n",
       "    <tr>\n",
       "      <th>229</th>\n",
       "      <td>DEG_ODPH_VHL_1</td>\n",
       "      <td>Q9Y2N7</td>\n",
       "      <td>488</td>\n",
       "      <td>500</td>\n",
       "      <td>Manual</td>\n",
       "      <td>EMLAPYISMDDDF</td>\n",
       "      <td>ALDLEMLAPYISMDDDFQLN</td>\n",
       "      <td>484.0</td>\n",
       "      <td>503.0</td>\n",
       "      <td>P40337</td>\n",
       "      <td>VHL</td>\n",
       "    </tr>\n",
       "  </tbody>\n",
       "</table>\n",
       "<p>230 rows × 11 columns</p>\n",
       "</div>"
      ],
      "text/plain": [
       "               Degron Substrate  Start  End Database       Sequence  \\\n",
       "0    DEG_SCF_FBXO31_1    P30281    286  292      ELM        DVTAIHL   \n",
       "1    DEG_SCF_FBXO31_1    P30279    283  289      ELM        DVRDIDL   \n",
       "2    DEG_SCF_FBXO31_1    P24385    289  295      ELM        DVRDVDI   \n",
       "3          DEG_COP1_1    P14921    273  283      ELM    SFNSLQRVPSY   \n",
       "4          DEG_COP1_1    P15036    301  311      ELM    SLLDVQRVPSF   \n",
       "..                ...       ...    ...  ...      ...            ...   \n",
       "225   DEG_CRL4_CDT2_1    Q9NQR1    178  190   Manual  PPKTPPSSCDSTN   \n",
       "226           CBL_MET    Q9UIW2    441  443   Manual            DYR   \n",
       "227    DEG_APCC_TPR_1    Q9UM11    491  493   Manual            LFT   \n",
       "228           CBL_MET    Q9UQQ2     88   90   Manual            DYR   \n",
       "229    DEG_ODPH_VHL_1    Q9Y2N7    488  500   Manual  EMLAPYISMDDDF   \n",
       "\n",
       "       Sequence_amplified  Start_amplified  End_amplified E3_ligase  \\\n",
       "0    SSSQGPSQTSTPTDVTAIHL            273.0          292.0    Q5XUX0   \n",
       "1    KSEDELDQASTPTDVRDIDL            270.0          289.0    Q5XUX0   \n",
       "2    EEEEEVDLACTPTDVRDVDI            276.0          295.0    Q5XUX0   \n",
       "3    WSSQSSFNSLQRVPSYDSFD            268.0          287.0    Q8NHY2   \n",
       "4    WNSQSSLLDVQRVPSFESFE            296.0          315.0    Q8NHY2   \n",
       "..                    ...              ...            ...       ...   \n",
       "225  EAAEPPKTPPSSCDSTNAAI            174.0          193.0    Q9NZJ0   \n",
       "226  DGLTAVAAYDYRGRTVVFAG            432.0          451.0    P22681   \n",
       "227  SKTRSTKVKWESVSVLNLFT            474.0          493.0       NaN   \n",
       "228  VRDGRAPGRDYRDTGRGPPA             79.0           98.0    P22681   \n",
       "229  ALDLEMLAPYISMDDDFQLN            484.0          503.0    P40337   \n",
       "\n",
       "    Degron_consensusID  \n",
       "0               FBXO31  \n",
       "1               FBXO31  \n",
       "2               FBXO31  \n",
       "3                 COP1  \n",
       "4                 COP1  \n",
       "..                 ...  \n",
       "225                DTL  \n",
       "226            CBL_MET  \n",
       "227     DEG_APCC_TPR_1  \n",
       "228            CBL_MET  \n",
       "229                VHL  \n",
       "\n",
       "[230 rows x 11 columns]"
      ]
     },
     "execution_count": 12,
     "metadata": {},
     "output_type": "execute_result"
    }
   ],
   "source": [
    "# Load data\n",
    "\n",
    "elm_manual_degrons_df = pd.read_csv(elm_manual_E3_consensusID_path, sep = \"\\t\")\n",
    "elm_manual_degrons_df"
   ]
  },
  {
   "cell_type": "markdown",
   "id": "4c515094",
   "metadata": {},
   "source": [
    "Generate fasta files for extended degron sequences"
   ]
  },
  {
   "cell_type": "code",
   "execution_count": 13,
   "id": "0afc191f",
   "metadata": {},
   "outputs": [
    {
     "name": "stdout",
     "output_type": "stream",
     "text": [
      "1: FBXO31\n",
      "2: COP1\n",
      "3: SPOP\n",
      "4: MDM2\n",
      "5: DEG_Kelch_KLHL3_1\n",
      "6: KEAP1\n",
      "7: APC_KENBOX\n",
      "8: APC_DBOX\n",
      "9: DEG_APCC_TPR_1\n",
      "10: BTRC\n",
      "11: DEG_SCF_SKP2-CKS1_1\n",
      "12: FBXW7\n",
      "13: DTL\n",
      "14: VHL\n",
      "15: SIAH1\n",
      "16: Other\n",
      "17: APC_ABBA\n",
      "18: CBLL1\n",
      "19: CBL_unknown\n",
      "20: CBL_PTK\n",
      "21: DEG_Kelch_actinfilin_1\n",
      "22: CBL_MET\n",
      "23: DEG_Nend_UBRbox_4\n",
      "24: ITCH\n"
     ]
    }
   ],
   "source": [
    "# Unique degrons consensus IDs (remove NaN)\n",
    "\n",
    "motifs = elm_manual_degrons_df.Degron_consensusID.dropna().unique()   # dropna to avoid NAs\n",
    "\n",
    "# Generate a fasta file per motif\n",
    "counter = 0\n",
    "\n",
    "for motif in motifs:\n",
    "    \n",
    "    counter += 1\n",
    "    print(f'{counter}: {motif}')\n",
    "    \n",
    "    subset = elm_manual_degrons_df[elm_manual_degrons_df.Degron_consensusID == motif].copy() # motif's subset\n",
    "    subset.reset_index(inplace = True, drop = True)\n",
    "    \n",
    "    generate_fasta_from_df(elm_manual_true_degrons_fasta_path, subset, \"Substrate\", \"Start_amplified\",\n",
    "                           \"End_amplified\", \"Sequence_amplified\")\n"
   ]
  },
  {
   "cell_type": "markdown",
   "id": "f5bfebfb",
   "metadata": {},
   "source": [
    "## 2. Perform MSA using Clustal Omega"
   ]
  },
  {
   "cell_type": "markdown",
   "id": "c3fd3f3e",
   "metadata": {},
   "source": [
    "The alignment is performed using EBI `clustalo.py` script in a *homemade* function to only retrieve the alignment file."
   ]
  },
  {
   "cell_type": "code",
   "execution_count": 27,
   "id": "ce07afdb",
   "metadata": {},
   "outputs": [
    {
     "name": "stdout",
     "output_type": "stream",
     "text": [
      "DEG_Kelch_KLHL3_1\n",
      "JobId: clustalo-R20220116-180143-0799-31972980-p2m\n",
      "FINISHED\n",
      "Creating result file: ../data/elm_manual/elm_manual_alignments/elm_manual_NO_ubinet/DEG_Kelch_KLHL3_1.aln-clustal_num.clustal_num\n",
      "\n",
      "APC_KENBOX\n",
      "JobId: clustalo-R20220116-180151-0261-71819121-p2m\n",
      "FINISHED\n",
      "Creating result file: ../data/elm_manual/elm_manual_alignments/elm_manual_NO_ubinet/APC_KENBOX.aln-clustal_num.clustal_num\n",
      "\n",
      "APC_DBOX\n",
      "JobId: clustalo-R20220116-180159-0011-11353832-p1m\n",
      "FINISHED\n",
      "Creating result file: ../data/elm_manual/elm_manual_alignments/elm_manual_NO_ubinet/APC_DBOX.aln-clustal_num.clustal_num\n",
      "\n",
      "DEG_APCC_TPR_1\n",
      "JobId: clustalo-R20220116-180206-0353-71728104-p2m\n",
      "FINISHED\n",
      "Creating result file: ../data/elm_manual/elm_manual_alignments/elm_manual_NO_ubinet/DEG_APCC_TPR_1.aln-clustal_num.clustal_num\n",
      "\n",
      "Other\n",
      "JobId: clustalo-R20220116-180213-0477-1103967-p1m\n",
      "FINISHED\n",
      "Creating result file: ../data/elm_manual/elm_manual_alignments/elm_manual_NO_ubinet/Other.aln-clustal_num.clustal_num\n",
      "\n",
      "APC_ABBA\n",
      "JobId: clustalo-R20220116-180220-0770-55032712-p1m\n",
      "FINISHED\n",
      "Creating result file: ../data/elm_manual/elm_manual_alignments/elm_manual_NO_ubinet/APC_ABBA.aln-clustal_num.clustal_num\n",
      "\n",
      "CBLL1\n",
      "JobId: clustalo-R20220116-180228-0080-40204668-p1m\n",
      "FINISHED\n",
      "Creating result file: ../data/elm_manual/elm_manual_alignments/elm_manual_NO_ubinet/CBLL1.aln-clustal_num.clustal_num\n",
      "\n",
      "DEG_Kelch_actinfilin_1\n",
      "Invalid parameters: \n",
      "Sequence -> A minimum of 2 sequences is required\n",
      "\n",
      "DEG_Nend_UBRbox_4\n",
      "JobId: clustalo-R20220116-180235-0942-56696893-p2m\n",
      "RUNNING\n",
      "FINISHED\n",
      "Creating result file: ../data/elm_manual/elm_manual_alignments/elm_manual_NO_ubinet/DEG_Nend_UBRbox_4.aln-clustal_num.clustal_num\n",
      "\n"
     ]
    }
   ],
   "source": [
    "for motif in motifs:\n",
    "        \n",
    "    print(motif)\n",
    "    fasta_path = elm_manual_true_degrons_fasta_path+\".fasta\"\n",
    "    run_clustal(fasta_path, elm_manual_align_clustal_path, motif)\n",
    "    print()\n",
    "    \n",
    "# note: the output seen below is illustrative, not all motifs were generated in this notebook"
   ]
  },
  {
   "cell_type": "markdown",
   "id": "a4dd39d5",
   "metadata": {},
   "source": [
    "## 3. Generate PPMs and PWMs from the alignments "
   ]
  },
  {
   "cell_type": "markdown",
   "id": "1a12e2ed",
   "metadata": {},
   "source": [
    "PWMs generated from curated alignments."
   ]
  },
  {
   "cell_type": "code",
   "execution_count": 1,
   "id": "2bbd9cc2",
   "metadata": {
    "scrolled": false
   },
   "outputs": [],
   "source": [
    "E3s = np.unique(np.array([E3.split(\".\")[0] for E3 in os.listdir(elm_manual_align_curated_path)]))\n",
    "\n",
    "for E3 in E3s:\n",
    "    \n",
    "    # Gather each alignment sequences in a list (logomaker requirement)\n",
    "    seqs = []\n",
    "    with open(elm_manual_align_curated_path+E3+\".fasta\", 'r') as f:\n",
    "        for line in f:\n",
    "            if line[0] != \">\":\n",
    "                seqs.append(line.strip())\n",
    "    \n",
    "    # Generate count matrix to add those aa not present in the alignment (for next step is necessary)\n",
    "    count_m = logomaker.alignment_to_matrix(seqs, to_type = \"counts\")\n",
    "    \n",
    "    if count_m.shape[1] != 20:\n",
    "        \n",
    "        diff_aa = set(aa) - set(count_m.columns)\n",
    "        for d in diff_aa:\n",
    "            count_m[d] = 0.0\n",
    "            \n",
    "        count_m.sort_index(axis = 1, inplace = True)\n",
    "    \n",
    "    # Generate probability matrix \n",
    "    prob_m = logomaker.transform_matrix(count_m, from_type = 'counts', \n",
    "                                          to_type = 'probability')\n",
    "    prob_m.to_csv(prob_m_path+E3+\".tsv\", \n",
    "                    sep = \"\\t\", header = True, index = False)\n",
    "    \n",
    "    # Generate weight matrix considering bg aa probabilities\n",
    "    weight_m = logomaker.transform_matrix(count_m, from_type = 'counts', \n",
    "                                          to_type = 'weight', background = aa_probs)\n",
    "    weight_m.to_csv(weight_m_path+E3+\".tsv\", \n",
    "                    sep = \"\\t\", header = True, index = False)\n",
    "    "
   ]
  }
 ],
 "metadata": {
  "kernelspec": {
   "display_name": "Python 3 (ipykernel)",
   "language": "python",
   "name": "python3"
  },
  "language_info": {
   "codemirror_mode": {
    "name": "ipython",
    "version": 3
   },
   "file_extension": ".py",
   "mimetype": "text/x-python",
   "name": "python",
   "nbconvert_exporter": "python",
   "pygments_lexer": "ipython3",
   "version": "3.9.7"
  }
 },
 "nbformat": 4,
 "nbformat_minor": 5
}
